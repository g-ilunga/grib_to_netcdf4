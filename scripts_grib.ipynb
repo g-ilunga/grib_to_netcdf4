{
 "cells": [
  {
   "attachments": {},
   "cell_type": "markdown",
   "metadata": {},
   "source": [
    "# The purpose of this script is show how to convert .grib files to NetCDF4. This script is designed for users who are programming on Windows computer and using Ananconda.\n",
    "\n",
    "# Before running the script, ensure to have follow the following step:\n",
    "\n",
    "1. Open Anaconda prompt\n",
    "\n",
    "2. Create a new environment (using the code below) to avoid any potential package conflict. Python 3.9 works well for me.\n",
    "\n",
    "          conda create --name gribenv python=3.9\n",
    "\n",
    "3. Activate the newly created environnment in order to install the required packages\n",
    "\n",
    "          conda activate gribenv\n",
    "\n",
    "4. Install the following packages by following the order below\n",
    "\n",
    "          pip install ecmwflibs (version 0.5.1)\n",
    "\n",
    "          pip install eccodes==1.3.1\n",
    "\n",
    "          pip install cfgrib (version 0.9.10.4)\n",
    "\n",
    "          conda install ipykernel\n",
    "\n",
    "          conda install xarray\n",
    "\n",
    "5. Go to Jupyter notebook (or Spyder), and connect to to the newly created environment (gribenv)\n",
    "\n",
    "6. Run the script as described below"
   ]
  },
  {
   "cell_type": "code",
   "execution_count": 2,
   "metadata": {},
   "outputs": [],
   "source": [
    "# Importing the xarray library\n",
    "\n",
    "import xarray"
   ]
  },
  {
   "cell_type": "code",
   "execution_count": null,
   "metadata": {},
   "outputs": [],
   "source": [
    "# Creating a function that will execute the conversion from grib to NetCDF\n",
    "\n",
    "def grib_to_nc (grib_file, output_file):\n",
    "\n",
    "    data = xr.open_dataset(grib_file, engine = \"cfgrib\")\n",
    "\n",
    "    data.to_netcdf(output_file, format = \"NETCDF4\")\n",
    "\n",
    "\n",
    "# grib_file is the input .grib file and output_file is the NetCDF file to be created"
   ]
  },
  {
   "cell_type": "code",
   "execution_count": null,
   "metadata": {},
   "outputs": [],
   "source": [
    "# Writting the path of the input grib file and the output NetCDF file\n",
    "\n",
    "grib_file = \"C:/Users/public/documents/temperature.grib\" # This is where the grib file is located\n",
    "\n",
    "output_file = \"C:/Users/public/documents/converted_temperature.nc\" # This is where you want to store the NetCDF file and specify the name of the file\n",
    "\n",
    "# Launching the conversion process\n",
    "\n",
    "grib_to_nc(grib_file, output_file)"
   ]
  }
 ],
 "metadata": {
  "kernelspec": {
   "display_name": "gribenv",
   "language": "python",
   "name": "python3"
  },
  "language_info": {
   "codemirror_mode": {
    "name": "ipython",
    "version": 3
   },
   "file_extension": ".py",
   "mimetype": "text/x-python",
   "name": "python",
   "nbconvert_exporter": "python",
   "pygments_lexer": "ipython3",
   "version": "3.9.16"
  },
  "orig_nbformat": 4
 },
 "nbformat": 4,
 "nbformat_minor": 2
}
